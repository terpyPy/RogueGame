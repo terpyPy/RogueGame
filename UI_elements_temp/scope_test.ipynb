{
 "cells": [
  {
   "cell_type": "code",
   "execution_count": 27,
   "metadata": {},
   "outputs": [
    {
     "data": {
      "text/plain": [
       "['back_walk.json',\n",
       " 'debug_info.json',\n",
       " 'front_walk.json',\n",
       " 'lookup.json',\n",
       " 'mouse_positions.json',\n",
       " 'mouse_positions_m.json',\n",
       " 'side_walk.json']"
      ]
     },
     "execution_count": 27,
     "metadata": {},
     "output_type": "execute_result"
    }
   ],
   "source": [
    "import glob\n",
    "import os\n",
    "im_list = glob.glob('**/*.json', recursive=True, root_dir='\\RogueGame')\n",
    "im_list"
   ]
  },
  {
   "cell_type": "code",
   "execution_count": 28,
   "metadata": {},
   "outputs": [
    {
     "data": {
      "text/plain": [
       "'..\\\\debug_info.json'"
      ]
     },
     "execution_count": 28,
     "metadata": {},
     "output_type": "execute_result"
    }
   ],
   "source": [
    "f_name = list(filter(lambda x: \"debug_info\" in x, im_list))[0]\n",
    "f_path = os.path.join(os.pardir, f_name)\n",
    "f_path"
   ]
  },
  {
   "cell_type": "code",
   "execution_count": 29,
   "metadata": {},
   "outputs": [
    {
     "data": {
      "text/plain": [
       "'{\"frame_counts\": \"self.player\", \"direction_field\": \"self.player.active_keys\", \"fps_field\": \"fps: {int(self.fpsClock.get_fps())}\", \"xy_field\": \"self.player x,y\", \"hash\": 1}'"
      ]
     },
     "execution_count": 29,
     "metadata": {},
     "output_type": "execute_result"
    }
   ],
   "source": [
    "f = open(f_path, 'r')\n",
    "f.read()"
   ]
  }
 ],
 "metadata": {
  "kernelspec": {
   "display_name": "bootCamp_env",
   "language": "python",
   "name": "python3"
  },
  "language_info": {
   "codemirror_mode": {
    "name": "ipython",
    "version": 3
   },
   "file_extension": ".py",
   "mimetype": "text/x-python",
   "name": "python",
   "nbconvert_exporter": "python",
   "pygments_lexer": "ipython3",
   "version": "3.10.4"
  }
 },
 "nbformat": 4,
 "nbformat_minor": 2
}
