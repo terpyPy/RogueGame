{
 "cells": [
  {
   "cell_type": "code",
   "execution_count": 1,
   "metadata": {},
   "outputs": [],
   "source": [
    "from dataclasses import dataclass\n",
    "from typing import List\n",
    "\n",
    "@dataclass\n",
    "class MousePositions:\n",
    "    positions: List[tuple]\n",
    "\n",
    "x = MousePositions([(1,2),(3,4)])"
   ]
  },
  {
   "cell_type": "code",
   "execution_count": 3,
   "metadata": {},
   "outputs": [],
   "source": [
    "x.positions.append((5,6))"
   ]
  },
  {
   "cell_type": "code",
   "execution_count": 9,
   "metadata": {},
   "outputs": [
    {
     "data": {
      "text/plain": [
       "[<zip at 0x1c641abb3c0>]"
      ]
     },
     "execution_count": 9,
     "metadata": {},
     "output_type": "execute_result"
    }
   ],
   "source": [
    "d= \n",
    "d"
   ]
  },
  {
   "cell_type": "code",
   "execution_count": null,
   "metadata": {},
   "outputs": [],
   "source": [
    "#  match keyNames:\n",
    "#                 case ['w']:\n",
    "#                     y_mod += m_speed\n",
    "#                 case ['s']:\n",
    "#                     y_mod -= m_speed\n",
    "#                 case ['a']:\n",
    "#                     x_mod += m_speed\n",
    "#                 case ['d']:\n",
    "#                     x_mod -= m_speed\n",
    "#                 case ['w', 'a']:\n",
    "#                     x_mod += m_speed\n",
    "#                     y_mod += m_speed\n",
    "#                 case ['w', 'd']:\n",
    "#                     x_mod -= m_speed\n",
    "#                     y_mod += m_speed\n",
    "#                 case ['s', 'a']:\n",
    "#                     x_mod += m_speed\n",
    "#                     y_mod -= m_speed\n",
    "#                 case ['s', 'd']:\n",
    "#                     x_mod -= m_speed\n",
    "#                     y_mod -= m_speed\n",
    "#                 case ['w', 's']:\n",
    "#                     pass\n",
    "#                 case ['a', 'd']:\n",
    "#                     pass\n",
    "#                 case _:\n",
    "#                     pass"
   ]
  },
  {
   "cell_type": "code",
   "execution_count": 21,
   "metadata": {},
   "outputs": [
    {
     "name": "stdout",
     "output_type": "stream",
     "text": [
      "cave_bg.png\n",
      "rogue_w_r.png\n",
      "rogue_w_r_2.png\n",
      "rogue_w_r_3.png\n",
      "rogue_w_r_4.png\n",
      "rogue_w_r_5.png\n",
      "imgs\\enemy\\enemy.png\n",
      "imgs\\Player_ims\\rogue_b.png\n",
      "imgs\\Player_ims\\rogue_default.png\n",
      "imgs\\Player_ims\\back_walk\\rogue_b_w.png\n",
      "imgs\\Player_ims\\back_walk\\rogue_b_w_1.png\n",
      "imgs\\Player_ims\\back_walk\\rogue_b_w_2.png\n",
      "imgs\\Player_ims\\back_walk\\rogue_b_w_3.png\n",
      "imgs\\Player_ims\\back_walk\\rogue_b_w_4.png\n",
      "imgs\\Player_ims\\front_walk\\rogue.png\n",
      "imgs\\Player_ims\\front_walk\\rogue_1.png\n",
      "imgs\\Player_ims\\front_walk\\rogue_2.png\n",
      "imgs\\Player_ims\\front_walk\\rogue_3.png\n",
      "imgs\\Player_ims\\front_walk\\rogue_4.png\n",
      "imgs\\Player_ims\\side_walk\\rogue_w_r.png\n",
      "imgs\\Player_ims\\side_walk\\rogue_w_r_1.png\n",
      "imgs\\Player_ims\\side_walk\\rogue_w_r_2.png\n",
      "imgs\\Player_ims\\side_walk\\rogue_w_r_3.png\n",
      "imgs\\Player_ims\\side_walk\\rogue_w_r_4.png\n"
     ]
    }
   ],
   "source": [
    "import glob\n",
    "im_list = glob.glob('**/*.png', recursive=True)\n",
    "print('\\n'.join(im_list))"
   ]
  },
  {
   "cell_type": "code",
   "execution_count": 25,
   "metadata": {},
   "outputs": [
    {
     "data": {
      "text/plain": [
       "'imgs\\\\Player_ims\\\\rogue_b.png'"
      ]
     },
     "execution_count": 25,
     "metadata": {},
     "output_type": "execute_result"
    }
   ],
   "source": [
    "y=list(filter(lambda x: 'Player_ims' in x, im_list))\n",
    "list(filter(lambda x: 'rogue_b' in x, y))[0]"
   ]
  }
 ],
 "metadata": {
  "kernelspec": {
   "display_name": "lightsOut",
   "language": "python",
   "name": "python3"
  },
  "language_info": {
   "codemirror_mode": {
    "name": "ipython",
    "version": 3
   },
   "file_extension": ".py",
   "mimetype": "text/x-python",
   "name": "python",
   "nbconvert_exporter": "python",
   "pygments_lexer": "ipython3",
   "version": "3.9.2"
  }
 },
 "nbformat": 4,
 "nbformat_minor": 2
}
